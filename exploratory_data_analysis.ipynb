{
  "nbformat": 4,
  "nbformat_minor": 0,
  "metadata": {
    "colab": {
      "name": "exploratory_data_analysis.ipynb",
      "provenance": [],
      "toc_visible": true,
      "authorship_tag": "ABX9TyOy84Tgc0Hql+lti2APR1Dy",
      "include_colab_link": true
    },
    "kernelspec": {
      "name": "python3",
      "display_name": "Python 3"
    },
    "language_info": {
      "name": "python"
    }
  },
  "cells": [
    {
      "cell_type": "markdown",
      "metadata": {
        "id": "view-in-github",
        "colab_type": "text"
      },
      "source": [
        "<a href=\"https://colab.research.google.com/github/AchrafAsh/best-istanbul-datathon/blob/main/exploratory_data_analysis.ipynb\" target=\"_parent\"><img src=\"https://colab.research.google.com/assets/colab-badge.svg\" alt=\"Open In Colab\"/></a>"
      ]
    },
    {
      "cell_type": "markdown",
      "metadata": {
        "id": "sUTrBxBp9p3i"
      },
      "source": [
        "# Introduction"
      ]
    },
    {
      "cell_type": "markdown",
      "metadata": {
        "id": "CyEGxVEZUGla"
      },
      "source": [
        "- The day-ahead market is the electricity market where the participants are responsible to enter their offers for production and consumption (the amount of electricity to be produced or consumed) and the electricity reference price is formed as a result.\n",
        "\n",
        "- Day-Ahead Market **transactions are carried out on an hourly basis every day** (each day consists of hourly periods that start at 00:00 and end at 00:00 the next day).\n",
        "\n",
        "- Every day until 12:30, market participants submit in the day ahead market their day ahead market offers for the next day.\n",
        "\n",
        "- Confirmed offers are evaluated by the optimization tool between 13:00 and 13:30, and market clearing prices and market clearing amounts for each hour of the relevant day are determined.\n",
        "\n",
        "- As an electricity producer, our responsibility is to inform the market every day of the electricity volume we will produce hourly for the next day.\n",
        "\n",
        "- Since the differences between the actual production and the forecasted production we give the day ahead create an imbalance, this imbalance cost is reflected on us.\n",
        "\n",
        "- For this reason, **forecasting the production as closely as possible maximizes our gain**.\n"
      ]
    },
    {
      "cell_type": "markdown",
      "metadata": {
        "id": "bBK5DRCuUaUA"
      },
      "source": [
        "Historical data (facility, turbine locations, realized generation data, measured meteorological data) \n",
        "\n",
        "\n",
        "→ Forecast Provider\n",
        "\n",
        "\n",
        "→ Forecast Data (generation forecast, meteorological forecasts)"
      ]
    },
    {
      "cell_type": "markdown",
      "metadata": {
        "id": "yVwsPVdhVtVZ"
      },
      "source": [
        "## Challenge\n",
        "\n",
        "- The aim of this use case is forecasting today’s wind power production (**05-06-2021T00:00 – 05-06-2021T23:59**)\n",
        "\n",
        "- The local forecast of the weather conditions that most affect production greatly affects the forecast quality of production.\n",
        "\n",
        "- Meteorological-based production forecasting models are built based on detailed inputs such as latitude, longitude, long-term wind speed measured in the region, turbine information.\n",
        "\n",
        "- The production forecast will be improved by using the weather forecast and production forecasts we received from 3 companies that provide meteorological production forecasts.\n",
        "---\n",
        "### Problem\n",
        "1. meteorological forecast: (latitude, longitude, long-term wind speed, turbine information) → (wind, humidity, temperature, pressure)\n",
        "2. wind power production forecast: weather, historical data → today forecasted production\n",
        "\n",
        "### Resources\n",
        "- Weather and production forecasts of 3 companies\n",
        "\n",
        "### Output\n",
        "- 1-day power production forecast on an hourly basis. Should be more accurate than other forecast providers!"
      ]
    },
    {
      "cell_type": "code",
      "metadata": {
        "id": "12Ez6278RlUh"
      },
      "source": [
        "import pandas as pd\n",
        "import numpy as np\n",
        "import matplotlib.pyplot as plt\n",
        "import seaborn as sns\n",
        "\n",
        "from datetime import datetime\n",
        "\n",
        "plt.rcParams.update({'figure.figsize': (8, 5), 'figure.dpi': 120})"
      ],
      "execution_count": 53,
      "outputs": []
    },
    {
      "cell_type": "code",
      "metadata": {
        "id": "ivpjr_woRwt1"
      },
      "source": [
        "# dataset paths\n",
        "path_provider_1 = \"https://raw.githubusercontent.com/AchrafAsh/best-istanbul-datathon/main/Provider1_Usecase2.csv\"\n",
        "path_provider_2 = \"https://raw.githubusercontent.com/AchrafAsh/best-istanbul-datathon/main/Provider2_Usecase2.csv\"\n",
        "path_provider_3 = \"https://raw.githubusercontent.com/AchrafAsh/best-istanbul-datathon/main/Provider3_Usecase2.csv\"\n",
        "path_generation = \"https://raw.githubusercontent.com/AchrafAsh/best-istanbul-datathon/main/ActualGeneration_Usecase2_v2.csv\""
      ],
      "execution_count": 14,
      "outputs": []
    },
    {
      "cell_type": "markdown",
      "metadata": {
        "id": "sxitwGVFdRGM"
      },
      "source": [
        "🚨 ProviderID is always **1**"
      ]
    },
    {
      "cell_type": "code",
      "metadata": {
        "id": "3EWGjIhHSC1j"
      },
      "source": [
        "df_provider_1 = pd.read_csv(path_provider_1, sep=\";\")"
      ],
      "execution_count": 15,
      "outputs": []
    },
    {
      "cell_type": "code",
      "metadata": {
        "colab": {
          "base_uri": "https://localhost:8080/",
          "height": 419
        },
        "id": "EB15rHO2TBHd",
        "outputId": "eab18dea-e4f3-489b-ce97-b322befd5d28"
      },
      "source": [
        "df_provider_1"
      ],
      "execution_count": 16,
      "outputs": [
        {
          "output_type": "execute_result",
          "data": {
            "text/html": [
              "<div>\n",
              "<style scoped>\n",
              "    .dataframe tbody tr th:only-of-type {\n",
              "        vertical-align: middle;\n",
              "    }\n",
              "\n",
              "    .dataframe tbody tr th {\n",
              "        vertical-align: top;\n",
              "    }\n",
              "\n",
              "    .dataframe thead th {\n",
              "        text-align: right;\n",
              "    }\n",
              "</style>\n",
              "<table border=\"1\" class=\"dataframe\">\n",
              "  <thead>\n",
              "    <tr style=\"text-align: right;\">\n",
              "      <th></th>\n",
              "      <th>Datekey</th>\n",
              "      <th>ProviderId</th>\n",
              "      <th>Hour</th>\n",
              "      <th>WindSpeed</th>\n",
              "      <th>WindDirection</th>\n",
              "      <th>Temperature</th>\n",
              "      <th>Pressure</th>\n",
              "      <th>Humidity</th>\n",
              "      <th>PowerWOAvailability</th>\n",
              "    </tr>\n",
              "  </thead>\n",
              "  <tbody>\n",
              "    <tr>\n",
              "      <th>0</th>\n",
              "      <td>20200101</td>\n",
              "      <td>1</td>\n",
              "      <td>00:00</td>\n",
              "      <td>2.0</td>\n",
              "      <td>317.0</td>\n",
              "      <td>5.3</td>\n",
              "      <td>100944</td>\n",
              "      <td>80.57</td>\n",
              "      <td>1.398</td>\n",
              "    </tr>\n",
              "    <tr>\n",
              "      <th>1</th>\n",
              "      <td>20200101</td>\n",
              "      <td>1</td>\n",
              "      <td>01:00</td>\n",
              "      <td>1.9</td>\n",
              "      <td>284.0</td>\n",
              "      <td>5.1</td>\n",
              "      <td>100920</td>\n",
              "      <td>79.70</td>\n",
              "      <td>1.992</td>\n",
              "    </tr>\n",
              "    <tr>\n",
              "      <th>2</th>\n",
              "      <td>20200101</td>\n",
              "      <td>1</td>\n",
              "      <td>02:00</td>\n",
              "      <td>2.0</td>\n",
              "      <td>270.0</td>\n",
              "      <td>4.8</td>\n",
              "      <td>100895</td>\n",
              "      <td>78.84</td>\n",
              "      <td>2.285</td>\n",
              "    </tr>\n",
              "    <tr>\n",
              "      <th>3</th>\n",
              "      <td>20200101</td>\n",
              "      <td>1</td>\n",
              "      <td>03:00</td>\n",
              "      <td>2.2</td>\n",
              "      <td>273.0</td>\n",
              "      <td>4.6</td>\n",
              "      <td>100875</td>\n",
              "      <td>77.98</td>\n",
              "      <td>5.529</td>\n",
              "    </tr>\n",
              "    <tr>\n",
              "      <th>4</th>\n",
              "      <td>20200101</td>\n",
              "      <td>1</td>\n",
              "      <td>04:00</td>\n",
              "      <td>2.2</td>\n",
              "      <td>282.0</td>\n",
              "      <td>4.4</td>\n",
              "      <td>100857</td>\n",
              "      <td>75.21</td>\n",
              "      <td>5.284</td>\n",
              "    </tr>\n",
              "    <tr>\n",
              "      <th>...</th>\n",
              "      <td>...</td>\n",
              "      <td>...</td>\n",
              "      <td>...</td>\n",
              "      <td>...</td>\n",
              "      <td>...</td>\n",
              "      <td>...</td>\n",
              "      <td>...</td>\n",
              "      <td>...</td>\n",
              "      <td>...</td>\n",
              "    </tr>\n",
              "    <tr>\n",
              "      <th>12523</th>\n",
              "      <td>20210605</td>\n",
              "      <td>1</td>\n",
              "      <td>19:00</td>\n",
              "      <td>3.5</td>\n",
              "      <td>12.0</td>\n",
              "      <td>19.0</td>\n",
              "      <td>100454</td>\n",
              "      <td>64.95</td>\n",
              "      <td>8.471</td>\n",
              "    </tr>\n",
              "    <tr>\n",
              "      <th>12524</th>\n",
              "      <td>20210605</td>\n",
              "      <td>1</td>\n",
              "      <td>20:00</td>\n",
              "      <td>3.2</td>\n",
              "      <td>15.0</td>\n",
              "      <td>18.3</td>\n",
              "      <td>100546</td>\n",
              "      <td>68.61</td>\n",
              "      <td>6.673</td>\n",
              "    </tr>\n",
              "    <tr>\n",
              "      <th>12525</th>\n",
              "      <td>20210605</td>\n",
              "      <td>1</td>\n",
              "      <td>21:00</td>\n",
              "      <td>2.9</td>\n",
              "      <td>21.0</td>\n",
              "      <td>17.5</td>\n",
              "      <td>100544</td>\n",
              "      <td>72.26</td>\n",
              "      <td>5.775</td>\n",
              "    </tr>\n",
              "    <tr>\n",
              "      <th>12526</th>\n",
              "      <td>20210605</td>\n",
              "      <td>1</td>\n",
              "      <td>22:00</td>\n",
              "      <td>2.7</td>\n",
              "      <td>32.0</td>\n",
              "      <td>16.9</td>\n",
              "      <td>100547</td>\n",
              "      <td>72.88</td>\n",
              "      <td>4.913</td>\n",
              "    </tr>\n",
              "    <tr>\n",
              "      <th>12527</th>\n",
              "      <td>20210605</td>\n",
              "      <td>1</td>\n",
              "      <td>23:00</td>\n",
              "      <td>2.7</td>\n",
              "      <td>37.0</td>\n",
              "      <td>16.2</td>\n",
              "      <td>100550</td>\n",
              "      <td>73.50</td>\n",
              "      <td>3.558</td>\n",
              "    </tr>\n",
              "  </tbody>\n",
              "</table>\n",
              "<p>12528 rows × 9 columns</p>\n",
              "</div>"
            ],
            "text/plain": [
              "        Datekey  ProviderId   Hour  ...  Pressure  Humidity  PowerWOAvailability\n",
              "0      20200101           1  00:00  ...    100944     80.57                1.398\n",
              "1      20200101           1  01:00  ...    100920     79.70                1.992\n",
              "2      20200101           1  02:00  ...    100895     78.84                2.285\n",
              "3      20200101           1  03:00  ...    100875     77.98                5.529\n",
              "4      20200101           1  04:00  ...    100857     75.21                5.284\n",
              "...         ...         ...    ...  ...       ...       ...                  ...\n",
              "12523  20210605           1  19:00  ...    100454     64.95                8.471\n",
              "12524  20210605           1  20:00  ...    100546     68.61                6.673\n",
              "12525  20210605           1  21:00  ...    100544     72.26                5.775\n",
              "12526  20210605           1  22:00  ...    100547     72.88                4.913\n",
              "12527  20210605           1  23:00  ...    100550     73.50                3.558\n",
              "\n",
              "[12528 rows x 9 columns]"
            ]
          },
          "metadata": {
            "tags": []
          },
          "execution_count": 16
        }
      ]
    },
    {
      "cell_type": "code",
      "metadata": {
        "colab": {
          "base_uri": "https://localhost:8080/",
          "height": 419
        },
        "id": "QIQ8uveKZBli",
        "outputId": "8833ba27-c66e-4dd1-cd73-8a4d97133ab5"
      },
      "source": [
        "# change column names\n",
        "df_provider_1.rename(columns={ \"Datekey\": \"date\",\n",
        "                              \"ProviderId\": \"provider_id\",\n",
        "                              \"Hour\": \"hour\",\n",
        "                              \"WindSpeed\": \"wind_speed\",\n",
        "                              \"WindDirection\": \"wind_direction\",\n",
        "                              \"Temperature\": \"temperature\",\n",
        "                              \"Pressure\": \"pressure\",\n",
        "                              \"Humidity\": \"humidity\",\n",
        "                              \"PowerWOAvailability\": \"power_wo_availability\"},\n",
        "                     inplace=True)\n",
        "\n",
        "df_provider_1"
      ],
      "execution_count": 17,
      "outputs": [
        {
          "output_type": "execute_result",
          "data": {
            "text/html": [
              "<div>\n",
              "<style scoped>\n",
              "    .dataframe tbody tr th:only-of-type {\n",
              "        vertical-align: middle;\n",
              "    }\n",
              "\n",
              "    .dataframe tbody tr th {\n",
              "        vertical-align: top;\n",
              "    }\n",
              "\n",
              "    .dataframe thead th {\n",
              "        text-align: right;\n",
              "    }\n",
              "</style>\n",
              "<table border=\"1\" class=\"dataframe\">\n",
              "  <thead>\n",
              "    <tr style=\"text-align: right;\">\n",
              "      <th></th>\n",
              "      <th>date</th>\n",
              "      <th>provider_id</th>\n",
              "      <th>hour</th>\n",
              "      <th>wind_speed</th>\n",
              "      <th>wind_direction</th>\n",
              "      <th>temperature</th>\n",
              "      <th>pressure</th>\n",
              "      <th>humidity</th>\n",
              "      <th>power_wo_availability</th>\n",
              "    </tr>\n",
              "  </thead>\n",
              "  <tbody>\n",
              "    <tr>\n",
              "      <th>0</th>\n",
              "      <td>20200101</td>\n",
              "      <td>1</td>\n",
              "      <td>00:00</td>\n",
              "      <td>2.0</td>\n",
              "      <td>317.0</td>\n",
              "      <td>5.3</td>\n",
              "      <td>100944</td>\n",
              "      <td>80.57</td>\n",
              "      <td>1.398</td>\n",
              "    </tr>\n",
              "    <tr>\n",
              "      <th>1</th>\n",
              "      <td>20200101</td>\n",
              "      <td>1</td>\n",
              "      <td>01:00</td>\n",
              "      <td>1.9</td>\n",
              "      <td>284.0</td>\n",
              "      <td>5.1</td>\n",
              "      <td>100920</td>\n",
              "      <td>79.70</td>\n",
              "      <td>1.992</td>\n",
              "    </tr>\n",
              "    <tr>\n",
              "      <th>2</th>\n",
              "      <td>20200101</td>\n",
              "      <td>1</td>\n",
              "      <td>02:00</td>\n",
              "      <td>2.0</td>\n",
              "      <td>270.0</td>\n",
              "      <td>4.8</td>\n",
              "      <td>100895</td>\n",
              "      <td>78.84</td>\n",
              "      <td>2.285</td>\n",
              "    </tr>\n",
              "    <tr>\n",
              "      <th>3</th>\n",
              "      <td>20200101</td>\n",
              "      <td>1</td>\n",
              "      <td>03:00</td>\n",
              "      <td>2.2</td>\n",
              "      <td>273.0</td>\n",
              "      <td>4.6</td>\n",
              "      <td>100875</td>\n",
              "      <td>77.98</td>\n",
              "      <td>5.529</td>\n",
              "    </tr>\n",
              "    <tr>\n",
              "      <th>4</th>\n",
              "      <td>20200101</td>\n",
              "      <td>1</td>\n",
              "      <td>04:00</td>\n",
              "      <td>2.2</td>\n",
              "      <td>282.0</td>\n",
              "      <td>4.4</td>\n",
              "      <td>100857</td>\n",
              "      <td>75.21</td>\n",
              "      <td>5.284</td>\n",
              "    </tr>\n",
              "    <tr>\n",
              "      <th>...</th>\n",
              "      <td>...</td>\n",
              "      <td>...</td>\n",
              "      <td>...</td>\n",
              "      <td>...</td>\n",
              "      <td>...</td>\n",
              "      <td>...</td>\n",
              "      <td>...</td>\n",
              "      <td>...</td>\n",
              "      <td>...</td>\n",
              "    </tr>\n",
              "    <tr>\n",
              "      <th>12523</th>\n",
              "      <td>20210605</td>\n",
              "      <td>1</td>\n",
              "      <td>19:00</td>\n",
              "      <td>3.5</td>\n",
              "      <td>12.0</td>\n",
              "      <td>19.0</td>\n",
              "      <td>100454</td>\n",
              "      <td>64.95</td>\n",
              "      <td>8.471</td>\n",
              "    </tr>\n",
              "    <tr>\n",
              "      <th>12524</th>\n",
              "      <td>20210605</td>\n",
              "      <td>1</td>\n",
              "      <td>20:00</td>\n",
              "      <td>3.2</td>\n",
              "      <td>15.0</td>\n",
              "      <td>18.3</td>\n",
              "      <td>100546</td>\n",
              "      <td>68.61</td>\n",
              "      <td>6.673</td>\n",
              "    </tr>\n",
              "    <tr>\n",
              "      <th>12525</th>\n",
              "      <td>20210605</td>\n",
              "      <td>1</td>\n",
              "      <td>21:00</td>\n",
              "      <td>2.9</td>\n",
              "      <td>21.0</td>\n",
              "      <td>17.5</td>\n",
              "      <td>100544</td>\n",
              "      <td>72.26</td>\n",
              "      <td>5.775</td>\n",
              "    </tr>\n",
              "    <tr>\n",
              "      <th>12526</th>\n",
              "      <td>20210605</td>\n",
              "      <td>1</td>\n",
              "      <td>22:00</td>\n",
              "      <td>2.7</td>\n",
              "      <td>32.0</td>\n",
              "      <td>16.9</td>\n",
              "      <td>100547</td>\n",
              "      <td>72.88</td>\n",
              "      <td>4.913</td>\n",
              "    </tr>\n",
              "    <tr>\n",
              "      <th>12527</th>\n",
              "      <td>20210605</td>\n",
              "      <td>1</td>\n",
              "      <td>23:00</td>\n",
              "      <td>2.7</td>\n",
              "      <td>37.0</td>\n",
              "      <td>16.2</td>\n",
              "      <td>100550</td>\n",
              "      <td>73.50</td>\n",
              "      <td>3.558</td>\n",
              "    </tr>\n",
              "  </tbody>\n",
              "</table>\n",
              "<p>12528 rows × 9 columns</p>\n",
              "</div>"
            ],
            "text/plain": [
              "           date  provider_id   hour  ...  pressure  humidity  power_wo_availability\n",
              "0      20200101            1  00:00  ...    100944     80.57                  1.398\n",
              "1      20200101            1  01:00  ...    100920     79.70                  1.992\n",
              "2      20200101            1  02:00  ...    100895     78.84                  2.285\n",
              "3      20200101            1  03:00  ...    100875     77.98                  5.529\n",
              "4      20200101            1  04:00  ...    100857     75.21                  5.284\n",
              "...         ...          ...    ...  ...       ...       ...                    ...\n",
              "12523  20210605            1  19:00  ...    100454     64.95                  8.471\n",
              "12524  20210605            1  20:00  ...    100546     68.61                  6.673\n",
              "12525  20210605            1  21:00  ...    100544     72.26                  5.775\n",
              "12526  20210605            1  22:00  ...    100547     72.88                  4.913\n",
              "12527  20210605            1  23:00  ...    100550     73.50                  3.558\n",
              "\n",
              "[12528 rows x 9 columns]"
            ]
          },
          "metadata": {
            "tags": []
          },
          "execution_count": 17
        }
      ]
    },
    {
      "cell_type": "code",
      "metadata": {
        "id": "IlHTMEJ5aEEy"
      },
      "source": [
        "# format date\n",
        "def format_date(date:int):\n",
        "    date_string = str(date)\n",
        "    year = date_string[:4]\n",
        "    month = date_string[4:6]\n",
        "    day = date_string[6:]\n",
        "    # convert to datetime\n",
        "    return f\"{year}-{month}-{day}\"\n",
        "\n",
        "df_provider_1[\"date\"] = df_provider_1[\"date\"].apply(format_date)"
      ],
      "execution_count": 31,
      "outputs": []
    },
    {
      "cell_type": "code",
      "metadata": {
        "id": "a3DGNmVVbJKC"
      },
      "source": [
        "# bring date and hour together\n",
        "df_provider_1[\"date\"] = df_provider_1[\"date\"] + \"T\" + df_provider_1[\"hour\"] + \":00\""
      ],
      "execution_count": 33,
      "outputs": []
    },
    {
      "cell_type": "code",
      "metadata": {
        "id": "XjZZpnC9bYzA"
      },
      "source": [
        "# drop hour column\n",
        "df_provider_1.drop(columns=[\"hour\"], inplace=True)"
      ],
      "execution_count": 35,
      "outputs": []
    },
    {
      "cell_type": "code",
      "metadata": {
        "id": "d-Ba4eynb1vg"
      },
      "source": [
        "# set the date to index\n",
        "df_provider_1.set_index(\"date\", inplace=True)"
      ],
      "execution_count": 38,
      "outputs": []
    },
    {
      "cell_type": "code",
      "metadata": {
        "colab": {
          "base_uri": "https://localhost:8080/"
        },
        "id": "6BVsuB_ebk5G",
        "outputId": "2e873e50-a26a-45d1-f68d-d770fb9812fc"
      },
      "source": [
        "df_provider_1.info()"
      ],
      "execution_count": 40,
      "outputs": [
        {
          "output_type": "stream",
          "text": [
            "<class 'pandas.core.frame.DataFrame'>\n",
            "Index: 12528 entries, 2020-01-01T00:00:00 to 2021-06-05T23:00:00\n",
            "Data columns (total 7 columns):\n",
            " #   Column                 Non-Null Count  Dtype  \n",
            "---  ------                 --------------  -----  \n",
            " 0   provider_id            12528 non-null  int64  \n",
            " 1   wind_speed             12528 non-null  float64\n",
            " 2   wind_direction         12528 non-null  float64\n",
            " 3   temperature            12528 non-null  float64\n",
            " 4   pressure               12528 non-null  int64  \n",
            " 5   humidity               12528 non-null  float64\n",
            " 6   power_wo_availability  12528 non-null  float64\n",
            "dtypes: float64(5), int64(2)\n",
            "memory usage: 783.0+ KB\n"
          ],
          "name": "stdout"
        }
      ]
    },
    {
      "cell_type": "code",
      "metadata": {
        "colab": {
          "base_uri": "https://localhost:8080/",
          "height": 297
        },
        "id": "BiXINEJwbpid",
        "outputId": "815c5795-4c75-4728-cc12-373822d5327c"
      },
      "source": [
        "df_provider_1.describe()"
      ],
      "execution_count": 41,
      "outputs": [
        {
          "output_type": "execute_result",
          "data": {
            "text/html": [
              "<div>\n",
              "<style scoped>\n",
              "    .dataframe tbody tr th:only-of-type {\n",
              "        vertical-align: middle;\n",
              "    }\n",
              "\n",
              "    .dataframe tbody tr th {\n",
              "        vertical-align: top;\n",
              "    }\n",
              "\n",
              "    .dataframe thead th {\n",
              "        text-align: right;\n",
              "    }\n",
              "</style>\n",
              "<table border=\"1\" class=\"dataframe\">\n",
              "  <thead>\n",
              "    <tr style=\"text-align: right;\">\n",
              "      <th></th>\n",
              "      <th>provider_id</th>\n",
              "      <th>wind_speed</th>\n",
              "      <th>wind_direction</th>\n",
              "      <th>temperature</th>\n",
              "      <th>pressure</th>\n",
              "      <th>humidity</th>\n",
              "      <th>power_wo_availability</th>\n",
              "    </tr>\n",
              "  </thead>\n",
              "  <tbody>\n",
              "    <tr>\n",
              "      <th>count</th>\n",
              "      <td>12528.0</td>\n",
              "      <td>12528.000000</td>\n",
              "      <td>12528.000000</td>\n",
              "      <td>12528.000000</td>\n",
              "      <td>12528.000000</td>\n",
              "      <td>12528.000000</td>\n",
              "      <td>12528.000000</td>\n",
              "    </tr>\n",
              "    <tr>\n",
              "      <th>mean</th>\n",
              "      <td>1.0</td>\n",
              "      <td>5.210672</td>\n",
              "      <td>122.664671</td>\n",
              "      <td>14.132830</td>\n",
              "      <td>100115.943726</td>\n",
              "      <td>71.891239</td>\n",
              "      <td>21.937733</td>\n",
              "    </tr>\n",
              "    <tr>\n",
              "      <th>std</th>\n",
              "      <td>0.0</td>\n",
              "      <td>3.053338</td>\n",
              "      <td>105.586050</td>\n",
              "      <td>7.066683</td>\n",
              "      <td>676.171578</td>\n",
              "      <td>10.434038</td>\n",
              "      <td>18.559513</td>\n",
              "    </tr>\n",
              "    <tr>\n",
              "      <th>min</th>\n",
              "      <td>1.0</td>\n",
              "      <td>0.500000</td>\n",
              "      <td>0.000000</td>\n",
              "      <td>-3.900000</td>\n",
              "      <td>97614.000000</td>\n",
              "      <td>33.830000</td>\n",
              "      <td>0.000000</td>\n",
              "    </tr>\n",
              "    <tr>\n",
              "      <th>25%</th>\n",
              "      <td>1.0</td>\n",
              "      <td>2.600000</td>\n",
              "      <td>33.000000</td>\n",
              "      <td>8.500000</td>\n",
              "      <td>99628.000000</td>\n",
              "      <td>64.660000</td>\n",
              "      <td>4.183750</td>\n",
              "    </tr>\n",
              "    <tr>\n",
              "      <th>50%</th>\n",
              "      <td>1.0</td>\n",
              "      <td>4.600000</td>\n",
              "      <td>66.000000</td>\n",
              "      <td>13.200000</td>\n",
              "      <td>100059.000000</td>\n",
              "      <td>72.060000</td>\n",
              "      <td>16.245000</td>\n",
              "    </tr>\n",
              "    <tr>\n",
              "      <th>75%</th>\n",
              "      <td>1.0</td>\n",
              "      <td>7.300000</td>\n",
              "      <td>203.000000</td>\n",
              "      <td>20.300000</td>\n",
              "      <td>100545.000000</td>\n",
              "      <td>79.412500</td>\n",
              "      <td>40.927000</td>\n",
              "    </tr>\n",
              "    <tr>\n",
              "      <th>max</th>\n",
              "      <td>1.0</td>\n",
              "      <td>18.500000</td>\n",
              "      <td>360.000000</td>\n",
              "      <td>31.200000</td>\n",
              "      <td>102650.000000</td>\n",
              "      <td>98.100000</td>\n",
              "      <td>55.013000</td>\n",
              "    </tr>\n",
              "  </tbody>\n",
              "</table>\n",
              "</div>"
            ],
            "text/plain": [
              "       provider_id    wind_speed  ...      humidity  power_wo_availability\n",
              "count      12528.0  12528.000000  ...  12528.000000           12528.000000\n",
              "mean           1.0      5.210672  ...     71.891239              21.937733\n",
              "std            0.0      3.053338  ...     10.434038              18.559513\n",
              "min            1.0      0.500000  ...     33.830000               0.000000\n",
              "25%            1.0      2.600000  ...     64.660000               4.183750\n",
              "50%            1.0      4.600000  ...     72.060000              16.245000\n",
              "75%            1.0      7.300000  ...     79.412500              40.927000\n",
              "max            1.0     18.500000  ...     98.100000              55.013000\n",
              "\n",
              "[8 rows x 7 columns]"
            ]
          },
          "metadata": {
            "tags": []
          },
          "execution_count": 41
        }
      ]
    },
    {
      "cell_type": "markdown",
      "metadata": {
        "id": "pS8b0zrSwBej"
      },
      "source": [
        "# Data Processing"
      ]
    },
    {
      "cell_type": "code",
      "metadata": {
        "id": "RrIBQJcocC8b"
      },
      "source": [
        "def get_provider_data(path: str):\n",
        "    df_provider = pd.read_csv(path, sep=\";\")\n",
        "    # change column names\n",
        "    df_provider.rename(columns={ \"Datekey\": \"date\",\n",
        "                                \"ProviderId\": \"provider_id\",\n",
        "                                \"Hour\": \"hour\",\n",
        "                                \"WindSpeed\": \"wind_speed\",\n",
        "                                \"WindDirection\": \"wind_direction\",\n",
        "                                \"Temperature\": \"temperature\",\n",
        "                                \"Pressure\": \"pressure\",\n",
        "                                \"Humidity\": \"humidity\",\n",
        "                                \"PowerWOAvailability\": \"power\"},\n",
        "                        inplace=True)\n",
        "    # format date\n",
        "    df_provider[\"date\"] = df_provider[\"date\"].apply(format_date)\n",
        "    # aggregate date and hour\n",
        "    df_provider[\"date\"] = df_provider[\"date\"] + \"T\" + df_provider[\"hour\"]\n",
        "    # convert to datetime object\n",
        "    df_provider[\"date\"] = df_provider.date.apply(\n",
        "        lambda d: datetime.strptime(d,\"%Y-%m-%dT%H:%M\")\n",
        "        )\n",
        "    # drop hour column\n",
        "    df_provider.drop(columns=[\"hour\"], inplace=True)\n",
        "    return df_provider"
      ],
      "execution_count": 155,
      "outputs": []
    },
    {
      "cell_type": "code",
      "metadata": {
        "id": "B6T-dM9dwMzo"
      },
      "source": [
        "def average_forecasts(*list_of_providers):\n",
        "    \n",
        "    # Meteorological data \n",
        "    \n",
        "    provider_1 = list_of_providers[0]\n",
        "    provider_2 = list_of_providers[1]\n",
        "    provider_3 = list_of_providers[2]\n",
        "    \n",
        "    provider_final_df = pd.DataFrame(index = list(provider_1.index), columns = list(provider_1.columns))\n",
        "    \n",
        "    provider_final_df.date = provider_1.date\n",
        "    \n",
        "    del provider_final_df['provider_id']\n",
        "    \n",
        "    for column in list(provider_final_df.columns):\n",
        "        \n",
        "        if column != 'date':\n",
        "        \n",
        "            to_average = pd.DataFrame() \n",
        "            to_average[column+'_1'] = provider_1[column]\n",
        "            to_average[column+'_2'] = provider_2[column]\n",
        "            to_average[column+'_3'] = provider_3[column]\n",
        "\n",
        "            provider_final_df[column] = to_average.mean(axis = 1)\n",
        "    \n",
        "    return(provider_final_df)"
      ],
      "execution_count": 225,
      "outputs": []
    },
    {
      "cell_type": "code",
      "metadata": {
        "id": "N3hgWpuc3qmv"
      },
      "source": [
        "avg_forecasts = average_forecasts(provider_1, provider_2, provider_3)"
      ],
      "execution_count": 227,
      "outputs": []
    },
    {
      "cell_type": "markdown",
      "metadata": {
        "id": "9IYQqDFIdXIg"
      },
      "source": [
        "# Exploratory Data Analysis"
      ]
    },
    {
      "cell_type": "code",
      "metadata": {
        "id": "0TOgJUDFdaUK"
      },
      "source": [
        "provider_1 = get_provider_data(path_provider_1)\n",
        "provider_2 = get_provider_data(path_provider_2)\n",
        "provider_3 = get_provider_data(path_provider_3)"
      ],
      "execution_count": 105,
      "outputs": []
    },
    {
      "cell_type": "code",
      "metadata": {
        "colab": {
          "base_uri": "https://localhost:8080/"
        },
        "id": "M9j3n7scfllv",
        "outputId": "6c668aa5-49d5-4ee8-bc3d-dccb7a671b88"
      },
      "source": [
        "provider_1.info()"
      ],
      "execution_count": 67,
      "outputs": [
        {
          "output_type": "stream",
          "text": [
            "<class 'pandas.core.frame.DataFrame'>\n",
            "RangeIndex: 12528 entries, 0 to 12527\n",
            "Data columns (total 8 columns):\n",
            " #   Column                 Non-Null Count  Dtype         \n",
            "---  ------                 --------------  -----         \n",
            " 0   date                   12528 non-null  datetime64[ns]\n",
            " 1   provider_id            12528 non-null  int64         \n",
            " 2   wind_speed             12528 non-null  float64       \n",
            " 3   wind_direction         12528 non-null  float64       \n",
            " 4   temperature            12528 non-null  float64       \n",
            " 5   pressure               12528 non-null  int64         \n",
            " 6   humidity               12528 non-null  float64       \n",
            " 7   power_wo_availability  12528 non-null  float64       \n",
            "dtypes: datetime64[ns](1), float64(5), int64(2)\n",
            "memory usage: 783.1 KB\n"
          ],
          "name": "stdout"
        }
      ]
    },
    {
      "cell_type": "markdown",
      "metadata": {
        "id": "ljcb5cb2jXWL"
      },
      "source": [
        "`provider_1` has no null values to handle"
      ]
    },
    {
      "cell_type": "code",
      "metadata": {
        "colab": {
          "base_uri": "https://localhost:8080/"
        },
        "id": "eFK5baIEjP7I",
        "outputId": "2de42327-8bde-4658-f618-4a4949e3ee35"
      },
      "source": [
        "provider_2.info()"
      ],
      "execution_count": 94,
      "outputs": [
        {
          "output_type": "stream",
          "text": [
            "<class 'pandas.core.frame.DataFrame'>\n",
            "RangeIndex: 12528 entries, 0 to 12527\n",
            "Data columns (total 8 columns):\n",
            " #   Column                 Non-Null Count  Dtype         \n",
            "---  ------                 --------------  -----         \n",
            " 0   date                   12528 non-null  datetime64[ns]\n",
            " 1   provider_id            12528 non-null  int64         \n",
            " 2   wind_speed             11472 non-null  float64       \n",
            " 3   wind_direction         11472 non-null  float64       \n",
            " 4   temperature            11472 non-null  float64       \n",
            " 5   pressure               11472 non-null  float64       \n",
            " 6   humidity               11472 non-null  float64       \n",
            " 7   power_wo_availability  12432 non-null  float64       \n",
            "dtypes: datetime64[ns](1), float64(6), int64(1)\n",
            "memory usage: 783.1 KB\n"
          ],
          "name": "stdout"
        }
      ]
    },
    {
      "cell_type": "markdown",
      "metadata": {
        "id": "tV8pCMlwjc_Q"
      },
      "source": [
        "`provider_2` has some null values everywhere"
      ]
    },
    {
      "cell_type": "code",
      "metadata": {
        "colab": {
          "base_uri": "https://localhost:8080/"
        },
        "id": "c2en5uxqjRoX",
        "outputId": "a3ec2e6b-9e93-4964-f542-b7dd93227c3e"
      },
      "source": [
        "provider_3.info()"
      ],
      "execution_count": 95,
      "outputs": [
        {
          "output_type": "stream",
          "text": [
            "<class 'pandas.core.frame.DataFrame'>\n",
            "RangeIndex: 12528 entries, 0 to 12527\n",
            "Data columns (total 8 columns):\n",
            " #   Column                 Non-Null Count  Dtype         \n",
            "---  ------                 --------------  -----         \n",
            " 0   date                   12528 non-null  datetime64[ns]\n",
            " 1   provider_id            12528 non-null  int64         \n",
            " 2   wind_speed             12504 non-null  float64       \n",
            " 3   wind_direction         12504 non-null  float64       \n",
            " 4   temperature            12504 non-null  float64       \n",
            " 5   pressure               11496 non-null  float64       \n",
            " 6   humidity               11496 non-null  float64       \n",
            " 7   power_wo_availability  12504 non-null  float64       \n",
            "dtypes: datetime64[ns](1), float64(6), int64(1)\n",
            "memory usage: 783.1 KB\n"
          ],
          "name": "stdout"
        }
      ]
    },
    {
      "cell_type": "markdown",
      "metadata": {
        "id": "37ES8z2ojll1"
      },
      "source": [
        "`provider_3` has also some null values on every column"
      ]
    },
    {
      "cell_type": "code",
      "metadata": {
        "colab": {
          "base_uri": "https://localhost:8080/",
          "height": 419
        },
        "id": "qZhVLUC4diK1",
        "outputId": "2d062f6b-e5c8-43bf-a427-059f9574aa92"
      },
      "source": [
        "actual_generation = pd.read_csv(path_generation, sep=\";\", parse_dates=[\"PCTimeStamp\"])\n",
        "actual_generation.rename(columns={\"PCTimeStamp\": \"date\",\n",
        "                                  \"PowerMWh\": \"power\"},\n",
        "                         inplace=True)\n",
        "actual_generation"
      ],
      "execution_count": 51,
      "outputs": [
        {
          "output_type": "execute_result",
          "data": {
            "text/html": [
              "<div>\n",
              "<style scoped>\n",
              "    .dataframe tbody tr th:only-of-type {\n",
              "        vertical-align: middle;\n",
              "    }\n",
              "\n",
              "    .dataframe tbody tr th {\n",
              "        vertical-align: top;\n",
              "    }\n",
              "\n",
              "    .dataframe thead th {\n",
              "        text-align: right;\n",
              "    }\n",
              "</style>\n",
              "<table border=\"1\" class=\"dataframe\">\n",
              "  <thead>\n",
              "    <tr style=\"text-align: right;\">\n",
              "      <th></th>\n",
              "      <th>date</th>\n",
              "      <th>power</th>\n",
              "    </tr>\n",
              "  </thead>\n",
              "  <tbody>\n",
              "    <tr>\n",
              "      <th>0</th>\n",
              "      <td>2020-01-01 00:00:00</td>\n",
              "      <td>3.364000</td>\n",
              "    </tr>\n",
              "    <tr>\n",
              "      <th>1</th>\n",
              "      <td>2020-01-01 01:00:00</td>\n",
              "      <td>1.606000</td>\n",
              "    </tr>\n",
              "    <tr>\n",
              "      <th>2</th>\n",
              "      <td>2020-01-01 02:00:00</td>\n",
              "      <td>2.808000</td>\n",
              "    </tr>\n",
              "    <tr>\n",
              "      <th>3</th>\n",
              "      <td>2020-01-01 03:00:00</td>\n",
              "      <td>2.543000</td>\n",
              "    </tr>\n",
              "    <tr>\n",
              "      <th>4</th>\n",
              "      <td>2020-01-01 04:00:00</td>\n",
              "      <td>0.093000</td>\n",
              "    </tr>\n",
              "    <tr>\n",
              "      <th>...</th>\n",
              "      <td>...</td>\n",
              "      <td>...</td>\n",
              "    </tr>\n",
              "    <tr>\n",
              "      <th>12499</th>\n",
              "      <td>2021-06-04 19:00:00</td>\n",
              "      <td>5.052000</td>\n",
              "    </tr>\n",
              "    <tr>\n",
              "      <th>12500</th>\n",
              "      <td>2021-06-04 20:00:00</td>\n",
              "      <td>6.013000</td>\n",
              "    </tr>\n",
              "    <tr>\n",
              "      <th>12501</th>\n",
              "      <td>2021-06-04 21:00:00</td>\n",
              "      <td>4.372000</td>\n",
              "    </tr>\n",
              "    <tr>\n",
              "      <th>12502</th>\n",
              "      <td>2021-06-04 22:00:00</td>\n",
              "      <td>3.007326</td>\n",
              "    </tr>\n",
              "    <tr>\n",
              "      <th>12503</th>\n",
              "      <td>2021-06-04 23:00:00</td>\n",
              "      <td>1.922519</td>\n",
              "    </tr>\n",
              "  </tbody>\n",
              "</table>\n",
              "<p>12504 rows × 2 columns</p>\n",
              "</div>"
            ],
            "text/plain": [
              "                     date     power\n",
              "0     2020-01-01 00:00:00  3.364000\n",
              "1     2020-01-01 01:00:00  1.606000\n",
              "2     2020-01-01 02:00:00  2.808000\n",
              "3     2020-01-01 03:00:00  2.543000\n",
              "4     2020-01-01 04:00:00  0.093000\n",
              "...                   ...       ...\n",
              "12499 2021-06-04 19:00:00  5.052000\n",
              "12500 2021-06-04 20:00:00  6.013000\n",
              "12501 2021-06-04 21:00:00  4.372000\n",
              "12502 2021-06-04 22:00:00  3.007326\n",
              "12503 2021-06-04 23:00:00  1.922519\n",
              "\n",
              "[12504 rows x 2 columns]"
            ]
          },
          "metadata": {
            "tags": []
          },
          "execution_count": 51
        }
      ]
    },
    {
      "cell_type": "code",
      "metadata": {
        "colab": {
          "base_uri": "https://localhost:8080/"
        },
        "id": "mcKhZ_PMd8JV",
        "outputId": "2a2c26c3-3794-44f0-e750-ce72b5d59c3e"
      },
      "source": [
        "actual_generation.info()"
      ],
      "execution_count": 52,
      "outputs": [
        {
          "output_type": "stream",
          "text": [
            "<class 'pandas.core.frame.DataFrame'>\n",
            "RangeIndex: 12504 entries, 0 to 12503\n",
            "Data columns (total 2 columns):\n",
            " #   Column  Non-Null Count  Dtype         \n",
            "---  ------  --------------  -----         \n",
            " 0   date    12504 non-null  datetime64[ns]\n",
            " 1   power   12442 non-null  float64       \n",
            "dtypes: datetime64[ns](1), float64(1)\n",
            "memory usage: 195.5 KB\n"
          ],
          "name": "stdout"
        }
      ]
    },
    {
      "cell_type": "code",
      "metadata": {
        "colab": {
          "base_uri": "https://localhost:8080/",
          "height": 590
        },
        "id": "BBqz56t0fx2d",
        "outputId": "1e8c63e6-edbb-478b-dc11-4d79f18633e1"
      },
      "source": [
        "# visualize forecasted and actual productions\n",
        "data = pd.DataFrame({\n",
        "    \"date\": actual_generation.date[:168],\n",
        "    \"provider_1\": provider_1[:168][\"power\"],\n",
        "    \"provider_2\": provider_2[:168][\"power\"],\n",
        "    \"provider_3\": provider_3[:168][\"power\"],\n",
        "    \"average\": avg_forecasts[:168][\"power\"],\n",
        "    \"actual\": actual_generation[\"power\"],\n",
        "})\n",
        "\n",
        "sns.lineplot(x=\"date\", y=\"value\", hue=\"variable\",\n",
        "             data=pd.melt(data, [\"date\"])).set(title=\"Forecasted and actual production (7 days)\")"
      ],
      "execution_count": 229,
      "outputs": [
        {
          "output_type": "execute_result",
          "data": {
            "text/plain": [
              "[Text(0.5, 1.0, 'Forecasted and actual production (7 days)')]"
            ]
          },
          "metadata": {
            "tags": []
          },
          "execution_count": 229
        },
        {
          "output_type": "display_data",
          "data": {
            "image/png": "[encoded data removed]",
            "text/plain": [
              "<Figure size 960x600 with 1 Axes>"
            ]
          },
          "metadata": {
            "tags": [],
            "needs_background": "light"
          }
        }
      ]
    },
    {
      "cell_type": "markdown",
      "metadata": {
        "id": "6lQo55EeirHQ"
      },
      "source": [
        "## Evaluating the providers' forecasts"
      ]
    },
    {
      "cell_type": "code",
      "metadata": {
        "id": "WFlyjMW-lgQw"
      },
      "source": [
        "# handling actual generation values\n",
        "# nans\n",
        "actual_generation.power = actual_generation.power.fillna(method=\"ffill\")\n",
        "# inf values\n",
        "actual_generation.power = actual_generation.power.replace(float(\"inf\"), value=max(avg_forecasts.power))"
      ],
      "execution_count": 236,
      "outputs": []
    },
    {
      "cell_type": "code",
      "metadata": {
        "colab": {
          "base_uri": "https://localhost:8080/"
        },
        "id": "yC1xUKN35sRE",
        "outputId": "cacaa74c-c700-45b1-c176-c35ef9fe7cc3"
      },
      "source": [
        "np.sum((actual_generation.power - avg_forecasts.power)**2)"
      ],
      "execution_count": 239,
      "outputs": [
        {
          "output_type": "execute_result",
          "data": {
            "text/plain": [
              "955532.0134014146"
            ]
          },
          "metadata": {
            "tags": []
          },
          "execution_count": 239
        }
      ]
    },
    {
      "cell_type": "code",
      "metadata": {
        "colab": {
          "base_uri": "https://localhost:8080/"
        },
        "id": "CLpnkqrk6thr",
        "outputId": "5a6a1a91-e42c-46ca-b2cd-08bb209dc0b9"
      },
      "source": [
        "split_idx = 12336\n",
        "len(provider_1)"
      ],
      "execution_count": 247,
      "outputs": [
        {
          "output_type": "execute_result",
          "data": {
            "text/plain": [
              "12528"
            ]
          },
          "metadata": {
            "tags": []
          },
          "execution_count": 247
        }
      ]
    }
  ]
}